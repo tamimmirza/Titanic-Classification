{
 "cells": [
  {
   "attachments": {},
   "cell_type": "markdown",
   "metadata": {},
   "source": [
    "# Titanic Classification"
   ]
  },
  {
   "attachments": {},
   "cell_type": "markdown",
   "metadata": {},
   "source": [
    "### Exploratory Data Analysis"
   ]
  },
  {
   "cell_type": "code",
   "execution_count": 1,
   "metadata": {},
   "outputs": [],
   "source": [
    "# Import necessary libraries\n",
    "import pandas as pd\n",
    "\n",
    "# Load dataset\n",
    "df_train = pd.read_csv('titanic/train.csv')\n",
    "df_test = pd.read_csv('titanic/test.csv')"
   ]
  },
  {
   "attachments": {},
   "cell_type": "markdown",
   "metadata": {},
   "source": [
    "#### Training Data"
   ]
  },
  {
   "cell_type": "code",
   "execution_count": 2,
   "metadata": {},
   "outputs": [
    {
     "data": {
      "text/html": [
       "<div>\n",
       "<style scoped>\n",
       "    .dataframe tbody tr th:only-of-type {\n",
       "        vertical-align: middle;\n",
       "    }\n",
       "\n",
       "    .dataframe tbody tr th {\n",
       "        vertical-align: top;\n",
       "    }\n",
       "\n",
       "    .dataframe thead th {\n",
       "        text-align: right;\n",
       "    }\n",
       "</style>\n",
       "<table border=\"1\" class=\"dataframe\">\n",
       "  <thead>\n",
       "    <tr style=\"text-align: right;\">\n",
       "      <th></th>\n",
       "      <th>PassengerId</th>\n",
       "      <th>Survived</th>\n",
       "      <th>Pclass</th>\n",
       "      <th>Name</th>\n",
       "      <th>Sex</th>\n",
       "      <th>Age</th>\n",
       "      <th>SibSp</th>\n",
       "      <th>Parch</th>\n",
       "      <th>Ticket</th>\n",
       "      <th>Fare</th>\n",
       "      <th>Cabin</th>\n",
       "      <th>Embarked</th>\n",
       "    </tr>\n",
       "  </thead>\n",
       "  <tbody>\n",
       "    <tr>\n",
       "      <th>0</th>\n",
       "      <td>1</td>\n",
       "      <td>0</td>\n",
       "      <td>3</td>\n",
       "      <td>Braund, Mr. Owen Harris</td>\n",
       "      <td>male</td>\n",
       "      <td>22.0</td>\n",
       "      <td>1</td>\n",
       "      <td>0</td>\n",
       "      <td>A/5 21171</td>\n",
       "      <td>7.2500</td>\n",
       "      <td>NaN</td>\n",
       "      <td>S</td>\n",
       "    </tr>\n",
       "    <tr>\n",
       "      <th>1</th>\n",
       "      <td>2</td>\n",
       "      <td>1</td>\n",
       "      <td>1</td>\n",
       "      <td>Cumings, Mrs. John Bradley (Florence Briggs Th...</td>\n",
       "      <td>female</td>\n",
       "      <td>38.0</td>\n",
       "      <td>1</td>\n",
       "      <td>0</td>\n",
       "      <td>PC 17599</td>\n",
       "      <td>71.2833</td>\n",
       "      <td>C85</td>\n",
       "      <td>C</td>\n",
       "    </tr>\n",
       "    <tr>\n",
       "      <th>2</th>\n",
       "      <td>3</td>\n",
       "      <td>1</td>\n",
       "      <td>3</td>\n",
       "      <td>Heikkinen, Miss. Laina</td>\n",
       "      <td>female</td>\n",
       "      <td>26.0</td>\n",
       "      <td>0</td>\n",
       "      <td>0</td>\n",
       "      <td>STON/O2. 3101282</td>\n",
       "      <td>7.9250</td>\n",
       "      <td>NaN</td>\n",
       "      <td>S</td>\n",
       "    </tr>\n",
       "    <tr>\n",
       "      <th>3</th>\n",
       "      <td>4</td>\n",
       "      <td>1</td>\n",
       "      <td>1</td>\n",
       "      <td>Futrelle, Mrs. Jacques Heath (Lily May Peel)</td>\n",
       "      <td>female</td>\n",
       "      <td>35.0</td>\n",
       "      <td>1</td>\n",
       "      <td>0</td>\n",
       "      <td>113803</td>\n",
       "      <td>53.1000</td>\n",
       "      <td>C123</td>\n",
       "      <td>S</td>\n",
       "    </tr>\n",
       "    <tr>\n",
       "      <th>4</th>\n",
       "      <td>5</td>\n",
       "      <td>0</td>\n",
       "      <td>3</td>\n",
       "      <td>Allen, Mr. William Henry</td>\n",
       "      <td>male</td>\n",
       "      <td>35.0</td>\n",
       "      <td>0</td>\n",
       "      <td>0</td>\n",
       "      <td>373450</td>\n",
       "      <td>8.0500</td>\n",
       "      <td>NaN</td>\n",
       "      <td>S</td>\n",
       "    </tr>\n",
       "  </tbody>\n",
       "</table>\n",
       "</div>"
      ],
      "text/plain": [
       "   PassengerId  Survived  Pclass   \n",
       "0            1         0       3  \\\n",
       "1            2         1       1   \n",
       "2            3         1       3   \n",
       "3            4         1       1   \n",
       "4            5         0       3   \n",
       "\n",
       "                                                Name     Sex   Age  SibSp   \n",
       "0                            Braund, Mr. Owen Harris    male  22.0      1  \\\n",
       "1  Cumings, Mrs. John Bradley (Florence Briggs Th...  female  38.0      1   \n",
       "2                             Heikkinen, Miss. Laina  female  26.0      0   \n",
       "3       Futrelle, Mrs. Jacques Heath (Lily May Peel)  female  35.0      1   \n",
       "4                           Allen, Mr. William Henry    male  35.0      0   \n",
       "\n",
       "   Parch            Ticket     Fare Cabin Embarked  \n",
       "0      0         A/5 21171   7.2500   NaN        S  \n",
       "1      0          PC 17599  71.2833   C85        C  \n",
       "2      0  STON/O2. 3101282   7.9250   NaN        S  \n",
       "3      0            113803  53.1000  C123        S  \n",
       "4      0            373450   8.0500   NaN        S  "
      ]
     },
     "execution_count": 2,
     "metadata": {},
     "output_type": "execute_result"
    }
   ],
   "source": [
    "# Show first 5 rows of the dataset\n",
    "df_train.head()"
   ]
  },
  {
   "cell_type": "code",
   "execution_count": 3,
   "metadata": {},
   "outputs": [
    {
     "name": "stdout",
     "output_type": "stream",
     "text": [
      "<class 'pandas.core.frame.DataFrame'>\n",
      "RangeIndex: 891 entries, 0 to 890\n",
      "Data columns (total 12 columns):\n",
      " #   Column       Non-Null Count  Dtype  \n",
      "---  ------       --------------  -----  \n",
      " 0   PassengerId  891 non-null    int64  \n",
      " 1   Survived     891 non-null    int64  \n",
      " 2   Pclass       891 non-null    int64  \n",
      " 3   Name         891 non-null    object \n",
      " 4   Sex          891 non-null    object \n",
      " 5   Age          714 non-null    float64\n",
      " 6   SibSp        891 non-null    int64  \n",
      " 7   Parch        891 non-null    int64  \n",
      " 8   Ticket       891 non-null    object \n",
      " 9   Fare         891 non-null    float64\n",
      " 10  Cabin        204 non-null    object \n",
      " 11  Embarked     889 non-null    object \n",
      "dtypes: float64(2), int64(5), object(5)\n",
      "memory usage: 83.7+ KB\n"
     ]
    }
   ],
   "source": [
    "# Show information about the dataset\n",
    "df_train.info()"
   ]
  },
  {
   "cell_type": "code",
   "execution_count": 4,
   "metadata": {},
   "outputs": [
    {
     "data": {
      "text/plain": [
       "PassengerId    False\n",
       "Survived       False\n",
       "Pclass         False\n",
       "Name           False\n",
       "Sex            False\n",
       "Age             True\n",
       "SibSp          False\n",
       "Parch          False\n",
       "Ticket         False\n",
       "Fare           False\n",
       "Cabin           True\n",
       "Embarked        True\n",
       "dtype: bool"
      ]
     },
     "execution_count": 4,
     "metadata": {},
     "output_type": "execute_result"
    }
   ],
   "source": [
    "# Check for missing values in the dataset\n",
    "df_train.isnull().any()"
   ]
  },
  {
   "cell_type": "code",
   "execution_count": 5,
   "metadata": {},
   "outputs": [],
   "source": [
    "# Drop Unnecessary Columns\n",
    "df_train = df_train.drop(['PassengerId', 'Name', 'Ticket', 'Cabin', 'Embarked'], axis=1)"
   ]
  },
  {
   "cell_type": "code",
   "execution_count": 6,
   "metadata": {},
   "outputs": [],
   "source": [
    "# Fill in missing age values with the mean age\n",
    "mean_age = df_train['Age'].mean()\n",
    "df_train['Age'].fillna(mean_age, inplace=True)"
   ]
  },
  {
   "cell_type": "code",
   "execution_count": 7,
   "metadata": {},
   "outputs": [
    {
     "data": {
      "text/plain": [
       "114"
      ]
     },
     "execution_count": 7,
     "metadata": {},
     "output_type": "execute_result"
    }
   ],
   "source": [
    "# Check for duplicates in the dataset\n",
    "df_train.duplicated().sum()"
   ]
  },
  {
   "cell_type": "code",
   "execution_count": 8,
   "metadata": {},
   "outputs": [
    {
     "data": {
      "text/html": [
       "<div>\n",
       "<style scoped>\n",
       "    .dataframe tbody tr th:only-of-type {\n",
       "        vertical-align: middle;\n",
       "    }\n",
       "\n",
       "    .dataframe tbody tr th {\n",
       "        vertical-align: top;\n",
       "    }\n",
       "\n",
       "    .dataframe thead th {\n",
       "        text-align: right;\n",
       "    }\n",
       "</style>\n",
       "<table border=\"1\" class=\"dataframe\">\n",
       "  <thead>\n",
       "    <tr style=\"text-align: right;\">\n",
       "      <th></th>\n",
       "      <th>Survived</th>\n",
       "      <th>Pclass</th>\n",
       "      <th>Sex</th>\n",
       "      <th>Age</th>\n",
       "      <th>SibSp</th>\n",
       "      <th>Parch</th>\n",
       "      <th>Fare</th>\n",
       "    </tr>\n",
       "  </thead>\n",
       "  <tbody>\n",
       "    <tr>\n",
       "      <th>0</th>\n",
       "      <td>0</td>\n",
       "      <td>3</td>\n",
       "      <td>male</td>\n",
       "      <td>22.000000</td>\n",
       "      <td>1</td>\n",
       "      <td>0</td>\n",
       "      <td>7.2500</td>\n",
       "    </tr>\n",
       "    <tr>\n",
       "      <th>1</th>\n",
       "      <td>1</td>\n",
       "      <td>1</td>\n",
       "      <td>female</td>\n",
       "      <td>38.000000</td>\n",
       "      <td>1</td>\n",
       "      <td>0</td>\n",
       "      <td>71.2833</td>\n",
       "    </tr>\n",
       "    <tr>\n",
       "      <th>2</th>\n",
       "      <td>1</td>\n",
       "      <td>3</td>\n",
       "      <td>female</td>\n",
       "      <td>26.000000</td>\n",
       "      <td>0</td>\n",
       "      <td>0</td>\n",
       "      <td>7.9250</td>\n",
       "    </tr>\n",
       "    <tr>\n",
       "      <th>3</th>\n",
       "      <td>1</td>\n",
       "      <td>1</td>\n",
       "      <td>female</td>\n",
       "      <td>35.000000</td>\n",
       "      <td>1</td>\n",
       "      <td>0</td>\n",
       "      <td>53.1000</td>\n",
       "    </tr>\n",
       "    <tr>\n",
       "      <th>4</th>\n",
       "      <td>0</td>\n",
       "      <td>3</td>\n",
       "      <td>male</td>\n",
       "      <td>35.000000</td>\n",
       "      <td>0</td>\n",
       "      <td>0</td>\n",
       "      <td>8.0500</td>\n",
       "    </tr>\n",
       "    <tr>\n",
       "      <th>...</th>\n",
       "      <td>...</td>\n",
       "      <td>...</td>\n",
       "      <td>...</td>\n",
       "      <td>...</td>\n",
       "      <td>...</td>\n",
       "      <td>...</td>\n",
       "      <td>...</td>\n",
       "    </tr>\n",
       "    <tr>\n",
       "      <th>885</th>\n",
       "      <td>0</td>\n",
       "      <td>3</td>\n",
       "      <td>female</td>\n",
       "      <td>39.000000</td>\n",
       "      <td>0</td>\n",
       "      <td>5</td>\n",
       "      <td>29.1250</td>\n",
       "    </tr>\n",
       "    <tr>\n",
       "      <th>887</th>\n",
       "      <td>1</td>\n",
       "      <td>1</td>\n",
       "      <td>female</td>\n",
       "      <td>19.000000</td>\n",
       "      <td>0</td>\n",
       "      <td>0</td>\n",
       "      <td>30.0000</td>\n",
       "    </tr>\n",
       "    <tr>\n",
       "      <th>888</th>\n",
       "      <td>0</td>\n",
       "      <td>3</td>\n",
       "      <td>female</td>\n",
       "      <td>29.699118</td>\n",
       "      <td>1</td>\n",
       "      <td>2</td>\n",
       "      <td>23.4500</td>\n",
       "    </tr>\n",
       "    <tr>\n",
       "      <th>889</th>\n",
       "      <td>1</td>\n",
       "      <td>1</td>\n",
       "      <td>male</td>\n",
       "      <td>26.000000</td>\n",
       "      <td>0</td>\n",
       "      <td>0</td>\n",
       "      <td>30.0000</td>\n",
       "    </tr>\n",
       "    <tr>\n",
       "      <th>890</th>\n",
       "      <td>0</td>\n",
       "      <td>3</td>\n",
       "      <td>male</td>\n",
       "      <td>32.000000</td>\n",
       "      <td>0</td>\n",
       "      <td>0</td>\n",
       "      <td>7.7500</td>\n",
       "    </tr>\n",
       "  </tbody>\n",
       "</table>\n",
       "<p>777 rows × 7 columns</p>\n",
       "</div>"
      ],
      "text/plain": [
       "     Survived  Pclass     Sex        Age  SibSp  Parch     Fare\n",
       "0           0       3    male  22.000000      1      0   7.2500\n",
       "1           1       1  female  38.000000      1      0  71.2833\n",
       "2           1       3  female  26.000000      0      0   7.9250\n",
       "3           1       1  female  35.000000      1      0  53.1000\n",
       "4           0       3    male  35.000000      0      0   8.0500\n",
       "..        ...     ...     ...        ...    ...    ...      ...\n",
       "885         0       3  female  39.000000      0      5  29.1250\n",
       "887         1       1  female  19.000000      0      0  30.0000\n",
       "888         0       3  female  29.699118      1      2  23.4500\n",
       "889         1       1    male  26.000000      0      0  30.0000\n",
       "890         0       3    male  32.000000      0      0   7.7500\n",
       "\n",
       "[777 rows x 7 columns]"
      ]
     },
     "execution_count": 8,
     "metadata": {},
     "output_type": "execute_result"
    }
   ],
   "source": [
    "# Drop duplicates\n",
    "df_train.drop_duplicates()"
   ]
  },
  {
   "cell_type": "code",
   "execution_count": 9,
   "metadata": {},
   "outputs": [
    {
     "data": {
      "text/html": [
       "<div>\n",
       "<style scoped>\n",
       "    .dataframe tbody tr th:only-of-type {\n",
       "        vertical-align: middle;\n",
       "    }\n",
       "\n",
       "    .dataframe tbody tr th {\n",
       "        vertical-align: top;\n",
       "    }\n",
       "\n",
       "    .dataframe thead th {\n",
       "        text-align: right;\n",
       "    }\n",
       "</style>\n",
       "<table border=\"1\" class=\"dataframe\">\n",
       "  <thead>\n",
       "    <tr style=\"text-align: right;\">\n",
       "      <th></th>\n",
       "      <th>Survived</th>\n",
       "      <th>Pclass</th>\n",
       "      <th>Sex</th>\n",
       "      <th>Age</th>\n",
       "      <th>SibSp</th>\n",
       "      <th>Parch</th>\n",
       "      <th>Fare</th>\n",
       "    </tr>\n",
       "  </thead>\n",
       "  <tbody>\n",
       "  </tbody>\n",
       "</table>\n",
       "</div>"
      ],
      "text/plain": [
       "Empty DataFrame\n",
       "Columns: [Survived, Pclass, Sex, Age, SibSp, Parch, Fare]\n",
       "Index: []"
      ]
     },
     "execution_count": 9,
     "metadata": {},
     "output_type": "execute_result"
    }
   ],
   "source": [
    "# Check for inconsistent values in the Age column\n",
    "df_train[df_train['Age'] < 0]"
   ]
  },
  {
   "attachments": {},
   "cell_type": "markdown",
   "metadata": {},
   "source": [
    "#### Testing Data"
   ]
  },
  {
   "cell_type": "code",
   "execution_count": 10,
   "metadata": {},
   "outputs": [
    {
     "name": "stdout",
     "output_type": "stream",
     "text": [
      "<class 'pandas.core.frame.DataFrame'>\n",
      "RangeIndex: 418 entries, 0 to 417\n",
      "Data columns (total 11 columns):\n",
      " #   Column       Non-Null Count  Dtype  \n",
      "---  ------       --------------  -----  \n",
      " 0   PassengerId  418 non-null    int64  \n",
      " 1   Pclass       418 non-null    int64  \n",
      " 2   Name         418 non-null    object \n",
      " 3   Sex          418 non-null    object \n",
      " 4   Age          332 non-null    float64\n",
      " 5   SibSp        418 non-null    int64  \n",
      " 6   Parch        418 non-null    int64  \n",
      " 7   Ticket       418 non-null    object \n",
      " 8   Fare         417 non-null    float64\n",
      " 9   Cabin        91 non-null     object \n",
      " 10  Embarked     418 non-null    object \n",
      "dtypes: float64(2), int64(4), object(5)\n",
      "memory usage: 36.0+ KB\n"
     ]
    }
   ],
   "source": [
    "# Show information about the testing dataset\n",
    "df_test.info()"
   ]
  },
  {
   "cell_type": "code",
   "execution_count": 11,
   "metadata": {},
   "outputs": [
    {
     "data": {
      "text/plain": [
       "PassengerId    False\n",
       "Pclass         False\n",
       "Name           False\n",
       "Sex            False\n",
       "Age             True\n",
       "SibSp          False\n",
       "Parch          False\n",
       "Ticket         False\n",
       "Fare            True\n",
       "Cabin           True\n",
       "Embarked       False\n",
       "dtype: bool"
      ]
     },
     "execution_count": 11,
     "metadata": {},
     "output_type": "execute_result"
    }
   ],
   "source": [
    "# Check for missing values in the dataset\n",
    "df_test.isnull().any()"
   ]
  },
  {
   "cell_type": "code",
   "execution_count": 12,
   "metadata": {},
   "outputs": [],
   "source": [
    "# Drop Unnecessary Columns\n",
    "df_test = df_test.drop(['PassengerId', 'Name', 'Ticket', 'Cabin', 'Embarked'], axis=1)"
   ]
  },
  {
   "cell_type": "code",
   "execution_count": 13,
   "metadata": {},
   "outputs": [],
   "source": [
    "# Fill in missing age values with the mean age\n",
    "mean_age = df_test['Age'].mean()\n",
    "df_test['Age'].fillna(mean_age, inplace=True)\n",
    "\n",
    "# Fill in missing Fare values\n",
    "from sklearn.impute import SimpleImputer\n",
    "\n",
    "# Create a SimpleImputer object with strategy='median'\n",
    "imputer = SimpleImputer(strategy='median')\n",
    "\n",
    "# Fit the imputer to the \"fare\" column\n",
    "imputer.fit(df_test[['Fare']])\n",
    "\n",
    "# Transform the \"fare\" column\n",
    "df_test['Fare'] = imputer.transform(df_test[['Fare']])"
   ]
  },
  {
   "cell_type": "code",
   "execution_count": 14,
   "metadata": {},
   "outputs": [
    {
     "data": {
      "text/plain": [
       "40"
      ]
     },
     "execution_count": 14,
     "metadata": {},
     "output_type": "execute_result"
    }
   ],
   "source": [
    "# Check for duplicates in the dataset\n",
    "df_test.duplicated().sum()"
   ]
  },
  {
   "cell_type": "code",
   "execution_count": 15,
   "metadata": {},
   "outputs": [
    {
     "data": {
      "text/html": [
       "<div>\n",
       "<style scoped>\n",
       "    .dataframe tbody tr th:only-of-type {\n",
       "        vertical-align: middle;\n",
       "    }\n",
       "\n",
       "    .dataframe tbody tr th {\n",
       "        vertical-align: top;\n",
       "    }\n",
       "\n",
       "    .dataframe thead th {\n",
       "        text-align: right;\n",
       "    }\n",
       "</style>\n",
       "<table border=\"1\" class=\"dataframe\">\n",
       "  <thead>\n",
       "    <tr style=\"text-align: right;\">\n",
       "      <th></th>\n",
       "      <th>Pclass</th>\n",
       "      <th>Sex</th>\n",
       "      <th>Age</th>\n",
       "      <th>SibSp</th>\n",
       "      <th>Parch</th>\n",
       "      <th>Fare</th>\n",
       "    </tr>\n",
       "  </thead>\n",
       "  <tbody>\n",
       "    <tr>\n",
       "      <th>0</th>\n",
       "      <td>3</td>\n",
       "      <td>male</td>\n",
       "      <td>34.50000</td>\n",
       "      <td>0</td>\n",
       "      <td>0</td>\n",
       "      <td>7.8292</td>\n",
       "    </tr>\n",
       "    <tr>\n",
       "      <th>1</th>\n",
       "      <td>3</td>\n",
       "      <td>female</td>\n",
       "      <td>47.00000</td>\n",
       "      <td>1</td>\n",
       "      <td>0</td>\n",
       "      <td>7.0000</td>\n",
       "    </tr>\n",
       "    <tr>\n",
       "      <th>2</th>\n",
       "      <td>2</td>\n",
       "      <td>male</td>\n",
       "      <td>62.00000</td>\n",
       "      <td>0</td>\n",
       "      <td>0</td>\n",
       "      <td>9.6875</td>\n",
       "    </tr>\n",
       "    <tr>\n",
       "      <th>3</th>\n",
       "      <td>3</td>\n",
       "      <td>male</td>\n",
       "      <td>27.00000</td>\n",
       "      <td>0</td>\n",
       "      <td>0</td>\n",
       "      <td>8.6625</td>\n",
       "    </tr>\n",
       "    <tr>\n",
       "      <th>4</th>\n",
       "      <td>3</td>\n",
       "      <td>female</td>\n",
       "      <td>22.00000</td>\n",
       "      <td>1</td>\n",
       "      <td>1</td>\n",
       "      <td>12.2875</td>\n",
       "    </tr>\n",
       "    <tr>\n",
       "      <th>...</th>\n",
       "      <td>...</td>\n",
       "      <td>...</td>\n",
       "      <td>...</td>\n",
       "      <td>...</td>\n",
       "      <td>...</td>\n",
       "      <td>...</td>\n",
       "    </tr>\n",
       "    <tr>\n",
       "      <th>411</th>\n",
       "      <td>1</td>\n",
       "      <td>female</td>\n",
       "      <td>37.00000</td>\n",
       "      <td>1</td>\n",
       "      <td>0</td>\n",
       "      <td>90.0000</td>\n",
       "    </tr>\n",
       "    <tr>\n",
       "      <th>412</th>\n",
       "      <td>3</td>\n",
       "      <td>female</td>\n",
       "      <td>28.00000</td>\n",
       "      <td>0</td>\n",
       "      <td>0</td>\n",
       "      <td>7.7750</td>\n",
       "    </tr>\n",
       "    <tr>\n",
       "      <th>414</th>\n",
       "      <td>1</td>\n",
       "      <td>female</td>\n",
       "      <td>39.00000</td>\n",
       "      <td>0</td>\n",
       "      <td>0</td>\n",
       "      <td>108.9000</td>\n",
       "    </tr>\n",
       "    <tr>\n",
       "      <th>415</th>\n",
       "      <td>3</td>\n",
       "      <td>male</td>\n",
       "      <td>38.50000</td>\n",
       "      <td>0</td>\n",
       "      <td>0</td>\n",
       "      <td>7.2500</td>\n",
       "    </tr>\n",
       "    <tr>\n",
       "      <th>417</th>\n",
       "      <td>3</td>\n",
       "      <td>male</td>\n",
       "      <td>30.27259</td>\n",
       "      <td>1</td>\n",
       "      <td>1</td>\n",
       "      <td>22.3583</td>\n",
       "    </tr>\n",
       "  </tbody>\n",
       "</table>\n",
       "<p>378 rows × 6 columns</p>\n",
       "</div>"
      ],
      "text/plain": [
       "     Pclass     Sex       Age  SibSp  Parch      Fare\n",
       "0         3    male  34.50000      0      0    7.8292\n",
       "1         3  female  47.00000      1      0    7.0000\n",
       "2         2    male  62.00000      0      0    9.6875\n",
       "3         3    male  27.00000      0      0    8.6625\n",
       "4         3  female  22.00000      1      1   12.2875\n",
       "..      ...     ...       ...    ...    ...       ...\n",
       "411       1  female  37.00000      1      0   90.0000\n",
       "412       3  female  28.00000      0      0    7.7750\n",
       "414       1  female  39.00000      0      0  108.9000\n",
       "415       3    male  38.50000      0      0    7.2500\n",
       "417       3    male  30.27259      1      1   22.3583\n",
       "\n",
       "[378 rows x 6 columns]"
      ]
     },
     "execution_count": 15,
     "metadata": {},
     "output_type": "execute_result"
    }
   ],
   "source": [
    "# Drop duplicates\n",
    "df_test.drop_duplicates()"
   ]
  },
  {
   "cell_type": "code",
   "execution_count": 16,
   "metadata": {},
   "outputs": [
    {
     "data": {
      "text/html": [
       "<div>\n",
       "<style scoped>\n",
       "    .dataframe tbody tr th:only-of-type {\n",
       "        vertical-align: middle;\n",
       "    }\n",
       "\n",
       "    .dataframe tbody tr th {\n",
       "        vertical-align: top;\n",
       "    }\n",
       "\n",
       "    .dataframe thead th {\n",
       "        text-align: right;\n",
       "    }\n",
       "</style>\n",
       "<table border=\"1\" class=\"dataframe\">\n",
       "  <thead>\n",
       "    <tr style=\"text-align: right;\">\n",
       "      <th></th>\n",
       "      <th>Pclass</th>\n",
       "      <th>Sex</th>\n",
       "      <th>Age</th>\n",
       "      <th>SibSp</th>\n",
       "      <th>Parch</th>\n",
       "      <th>Fare</th>\n",
       "    </tr>\n",
       "  </thead>\n",
       "  <tbody>\n",
       "  </tbody>\n",
       "</table>\n",
       "</div>"
      ],
      "text/plain": [
       "Empty DataFrame\n",
       "Columns: [Pclass, Sex, Age, SibSp, Parch, Fare]\n",
       "Index: []"
      ]
     },
     "execution_count": 16,
     "metadata": {},
     "output_type": "execute_result"
    }
   ],
   "source": [
    "# Check for inconsistent values in the Age column\n",
    "df_test[df_test['Age'] < 0]"
   ]
  },
  {
   "attachments": {},
   "cell_type": "markdown",
   "metadata": {},
   "source": [
    "### Data Visualization (Only for training data)"
   ]
  },
  {
   "cell_type": "code",
   "execution_count": 17,
   "metadata": {},
   "outputs": [
    {
     "data": {
      "image/png": "[encoded data removed]",
      "text/plain": [
       "<Figure size 640x480 with 1 Axes>"
      ]
     },
     "metadata": {},
     "output_type": "display_data"
    }
   ],
   "source": [
    "# Import necessary libraries\n",
    "import matplotlib.pyplot as plt\n",
    "import seaborn as sns\n",
    "\n",
    "# Create a bar chart to show the number of passengers who survived and did not survive\n",
    "sns.countplot(x=\"Survived\", data=df_train)\n",
    "\n",
    "# Set the title and labels\n",
    "plt.title(\"Passenger Survival Count\")\n",
    "plt.xlabel(\"Survived\")\n",
    "plt.ylabel(\"Count\")\n",
    "\n",
    "# Show the plot\n",
    "plt.show()"
   ]
  },
  {
   "cell_type": "code",
   "execution_count": 18,
   "metadata": {},
   "outputs": [
    {
     "data": {
      "image/png": "[encoded data removed]",
      "text/plain": [
       "<Figure size 640x480 with 2 Axes>"
      ]
     },
     "metadata": {},
     "output_type": "display_data"
    }
   ],
   "source": [
    "# Load the Titanic dataset from a CSV file\n",
    "titanic = pd.read_csv('titanic/train.csv')\n",
    "\n",
    "# Remove non-numeric columns\n",
    "titanic = titanic.select_dtypes(include=['int64', 'float64'])\n",
    "\n",
    "# Replace missing values with the mean\n",
    "titanic.fillna(titanic.mean(), inplace=True)\n",
    "\n",
    "# Create a heatmap of the correlation between all features\n",
    "corr = titanic.corr()\n",
    "sns.heatmap(corr, annot=True, cmap='coolwarm')\n",
    "plt.title('Correlation Heatmap')\n",
    "plt.show()"
   ]
  },
  {
   "cell_type": "code",
   "execution_count": 19,
   "metadata": {},
   "outputs": [
    {
     "data": {
      "image/png": "[encoded data removed]",
      "text/plain": [
       "<Figure size 640x480 with 1 Axes>"
      ]
     },
     "metadata": {},
     "output_type": "display_data"
    }
   ],
   "source": [
    "# Create a scatterplot to visualize the relationship between age and survival\n",
    "sns.scatterplot(y=\"Survived\", x=\"Age\", data=df_train)\n",
    "\n",
    "plt.title(\"Age vs. Survival\")\n",
    "plt.xlabel(\"Age\")\n",
    "plt.ylabel(\"Survival\")\n",
    "\n",
    "plt.show()"
   ]
  },
  {
   "cell_type": "code",
   "execution_count": 20,
   "metadata": {},
   "outputs": [
    {
     "data": {
      "image/png": "[encoded data removed]",
      "text/plain": [
       "<Figure size 572.111x500 with 1 Axes>"
      ]
     },
     "metadata": {},
     "output_type": "display_data"
    }
   ],
   "source": [
    "# Create a stacked barplot visualize the relationship between sex and survival\n",
    "sns.catplot(x=\"Sex\", hue=\"Survived\", kind=\"count\", data=df_train, palette=\"Set1\")\n",
    "plt.title('Survival by Sex')\n",
    "plt.show()\n"
   ]
  },
  {
   "cell_type": "code",
   "execution_count": 21,
   "metadata": {},
   "outputs": [
    {
     "data": {
      "image/png": "[encoded data removed]",
      "text/plain": [
       "<Figure size 572.111x500 with 1 Axes>"
      ]
     },
     "metadata": {},
     "output_type": "display_data"
    }
   ],
   "source": [
    "# Create a stacked barplot visualize the relationship between Pclass and Survival\n",
    "sns.catplot(x=\"Pclass\", hue=\"Survived\", kind=\"count\", data=df_train, palette=\"Set1\")\n",
    "plt.title('Survival by Pclass')\n",
    "plt.show()"
   ]
  },
  {
   "cell_type": "code",
   "execution_count": 22,
   "metadata": {},
   "outputs": [
    {
     "data": {
      "image/png": "[encoded data removed]",
      "text/plain": [
       "<Figure size 572.111x500 with 1 Axes>"
      ]
     },
     "metadata": {},
     "output_type": "display_data"
    }
   ],
   "source": [
    "# Create a countplot to visualize the relationship between Parch (number of parents/children) and survival\n",
    "sns.catplot(x=\"Parch\", hue=\"Survived\", kind=\"count\", data=df_train, palette=\"Set1\")\n",
    "plt.title('Survival by Parch')\n",
    "plt.show()"
   ]
  },
  {
   "attachments": {},
   "cell_type": "markdown",
   "metadata": {},
   "source": [
    "### Data Preprocessing"
   ]
  },
  {
   "cell_type": "code",
   "execution_count": 23,
   "metadata": {},
   "outputs": [],
   "source": [
    "# Convert string data to numeric\n",
    "from sklearn.preprocessing import LabelEncoder\n",
    "\n",
    "le = LabelEncoder()\n",
    "df_train['Sex'] = le.fit_transform(df_train['Sex'])\n",
    "df_test['Sex'] = le.fit_transform(df_test['Sex'])"
   ]
  },
  {
   "cell_type": "code",
   "execution_count": 24,
   "metadata": {},
   "outputs": [
    {
     "name": "stdout",
     "output_type": "stream",
     "text": [
      "Shape of X_train: (891, 6)\n",
      "Shape of y_train: (891,)\n"
     ]
    }
   ],
   "source": [
    "#TRAINING DATA\n",
    "\n",
    "# Create a new dataframe without the Survived column and remove unnecessary columns\n",
    "X = df_train.drop('Survived', axis=1)\n",
    "\n",
    "# Create a separate variable for the Survived column\n",
    "y = df_train['Survived']\n",
    "\n",
    "# Convert the X and y dataframes to numpy arrays\n",
    "X_train = X.values\n",
    "y_train = y.values\n",
    "\n",
    "# Check the shape of the numpy array\n",
    "print(\"Shape of X_train: {}\".format(X_train.shape))\n",
    "print(\"Shape of y_train: {}\".format(y_train.shape))"
   ]
  },
  {
   "cell_type": "code",
   "execution_count": 25,
   "metadata": {},
   "outputs": [
    {
     "name": "stdout",
     "output_type": "stream",
     "text": [
      "Shape of X_test: (418, 6)\n"
     ]
    }
   ],
   "source": [
    "# TESTING DATA\n",
    "\n",
    "# Convert the df_test dataframe to numpy arrays\n",
    "X_test = df_test.values\n",
    "\n",
    "# Check the shape of the numpy array\n",
    "print(\"Shape of X_test: {}\".format(X_test.shape))"
   ]
  },
  {
   "attachments": {},
   "cell_type": "markdown",
   "metadata": {},
   "source": [
    "### Machine Learning models"
   ]
  },
  {
   "attachments": {},
   "cell_type": "markdown",
   "metadata": {},
   "source": [
    "#### Linear Regression"
   ]
  },
  {
   "cell_type": "code",
   "execution_count": 26,
   "metadata": {},
   "outputs": [
    {
     "name": "stdout",
     "output_type": "stream",
     "text": [
      "Training accuracy on Logistic Regression: 0.797979797979798\n"
     ]
    }
   ],
   "source": [
    "from sklearn.linear_model import LogisticRegression\n",
    "\n",
    "# Initialize the logistic regression model\n",
    "logistic_regression = LogisticRegression()\n",
    "\n",
    "# Train the model on the entire dataset\n",
    "logistic_regression.fit(X_train, y_train)\n",
    "\n",
    "# Evaluate the model's accuracy on the training data\n",
    "score = logistic_regression.score(X_train, y_train)\n",
    "print('Training accuracy on Logistic Regression:', score)"
   ]
  },
  {
   "attachments": {},
   "cell_type": "markdown",
   "metadata": {},
   "source": [
    "#### Support Vector Machine"
   ]
  },
  {
   "cell_type": "code",
   "execution_count": 27,
   "metadata": {},
   "outputs": [
    {
     "name": "stdout",
     "output_type": "stream",
     "text": [
      "Training accuracy on SVM: 0.7867564534231201\n"
     ]
    }
   ],
   "source": [
    "from sklearn.svm import SVC\n",
    "\n",
    "# Initialize the SVM model\n",
    "svm = SVC(kernel='linear')\n",
    "\n",
    "# Train the model on the training data\n",
    "svm.fit(X_train, y_train)\n",
    "\n",
    "# Evaluate the model's accuracy on the training data\n",
    "accuracy = svm.score(X_train, y_train)\n",
    "print('Training accuracy on SVM:', accuracy)"
   ]
  },
  {
   "attachments": {},
   "cell_type": "markdown",
   "metadata": {},
   "source": [
    "#### Neural Network"
   ]
  },
  {
   "cell_type": "code",
   "execution_count": 28,
   "metadata": {},
   "outputs": [
    {
     "name": "stdout",
     "output_type": "stream",
     "text": [
      "Epoch 1/100\n",
      "28/28 [==============================] - 2s 11ms/step - loss: 0.7975 - accuracy: 0.5814\n",
      "Epoch 2/100\n",
      "28/28 [==============================] - 0s 11ms/step - loss: 0.7130 - accuracy: 0.6364\n",
      "Epoch 3/100\n",
      "28/28 [==============================] - 0s 11ms/step - loss: 0.7132 - accuracy: 0.6263\n",
      "Epoch 4/100\n",
      "28/28 [==============================] - 0s 11ms/step - loss: 0.6835 - accuracy: 0.6465\n",
      "Epoch 5/100\n",
      "28/28 [==============================] - 0s 10ms/step - loss: 0.6737 - accuracy: 0.6420\n",
      "Epoch 6/100\n",
      "28/28 [==============================] - 0s 11ms/step - loss: 0.6547 - accuracy: 0.6532\n",
      "Epoch 7/100\n",
      "28/28 [==============================] - 0s 11ms/step - loss: 0.6575 - accuracy: 0.6611\n",
      "Epoch 8/100\n",
      "28/28 [==============================] - 0s 11ms/step - loss: 0.6136 - accuracy: 0.6611\n",
      "Epoch 9/100\n",
      "28/28 [==============================] - 0s 11ms/step - loss: 0.6343 - accuracy: 0.6655\n",
      "Epoch 10/100\n",
      "28/28 [==============================] - 0s 11ms/step - loss: 0.5940 - accuracy: 0.7172\n",
      "Epoch 11/100\n",
      "28/28 [==============================] - 0s 12ms/step - loss: 0.5785 - accuracy: 0.7059\n",
      "Epoch 12/100\n",
      "28/28 [==============================] - 0s 11ms/step - loss: 0.5751 - accuracy: 0.7250\n",
      "Epoch 13/100\n",
      "28/28 [==============================] - 0s 11ms/step - loss: 0.5566 - accuracy: 0.7183\n",
      "Epoch 14/100\n",
      "28/28 [==============================] - 0s 11ms/step - loss: 0.5665 - accuracy: 0.7340\n",
      "Epoch 15/100\n",
      "28/28 [==============================] - 0s 11ms/step - loss: 0.5601 - accuracy: 0.7475\n",
      "Epoch 16/100\n",
      "28/28 [==============================] - 0s 12ms/step - loss: 0.5229 - accuracy: 0.7497\n",
      "Epoch 17/100\n",
      "28/28 [==============================] - 0s 10ms/step - loss: 0.5285 - accuracy: 0.7464\n",
      "Epoch 18/100\n",
      "28/28 [==============================] - 0s 11ms/step - loss: 0.4977 - accuracy: 0.7767\n",
      "Epoch 19/100\n",
      "28/28 [==============================] - 0s 11ms/step - loss: 0.5296 - accuracy: 0.7576\n",
      "Epoch 20/100\n",
      "28/28 [==============================] - 0s 12ms/step - loss: 0.5206 - accuracy: 0.7654\n",
      "Epoch 21/100\n",
      "28/28 [==============================] - 0s 11ms/step - loss: 0.5106 - accuracy: 0.7789\n",
      "Epoch 22/100\n",
      "28/28 [==============================] - 0s 11ms/step - loss: 0.5022 - accuracy: 0.7957\n",
      "Epoch 23/100\n",
      "28/28 [==============================] - 0s 11ms/step - loss: 0.5236 - accuracy: 0.7531\n",
      "Epoch 24/100\n",
      "28/28 [==============================] - 0s 10ms/step - loss: 0.4936 - accuracy: 0.7553\n",
      "Epoch 25/100\n",
      "28/28 [==============================] - 0s 11ms/step - loss: 0.5073 - accuracy: 0.7643\n",
      "Epoch 26/100\n",
      "28/28 [==============================] - 0s 11ms/step - loss: 0.4904 - accuracy: 0.7800\n",
      "Epoch 27/100\n",
      "28/28 [==============================] - 0s 11ms/step - loss: 0.4791 - accuracy: 0.7834\n",
      "Epoch 28/100\n",
      "28/28 [==============================] - 0s 11ms/step - loss: 0.5045 - accuracy: 0.7666\n",
      "Epoch 29/100\n",
      "28/28 [==============================] - 0s 11ms/step - loss: 0.5113 - accuracy: 0.7632\n",
      "Epoch 30/100\n",
      "28/28 [==============================] - 0s 10ms/step - loss: 0.4809 - accuracy: 0.7800\n",
      "Epoch 31/100\n",
      "28/28 [==============================] - 0s 11ms/step - loss: 0.4806 - accuracy: 0.7767\n",
      "Epoch 32/100\n",
      "28/28 [==============================] - 0s 11ms/step - loss: 0.4999 - accuracy: 0.7890\n",
      "Epoch 33/100\n",
      "28/28 [==============================] - 0s 12ms/step - loss: 0.4720 - accuracy: 0.7957\n",
      "Epoch 34/100\n",
      "28/28 [==============================] - 0s 12ms/step - loss: 0.4925 - accuracy: 0.7755\n",
      "Epoch 35/100\n",
      "28/28 [==============================] - 0s 11ms/step - loss: 0.4837 - accuracy: 0.7755\n",
      "Epoch 36/100\n",
      "28/28 [==============================] - 0s 11ms/step - loss: 0.4784 - accuracy: 0.7845\n",
      "Epoch 37/100\n",
      "28/28 [==============================] - 0s 11ms/step - loss: 0.4768 - accuracy: 0.7991\n",
      "Epoch 38/100\n",
      "28/28 [==============================] - 0s 11ms/step - loss: 0.4691 - accuracy: 0.7856\n",
      "Epoch 39/100\n",
      "28/28 [==============================] - 0s 11ms/step - loss: 0.4765 - accuracy: 0.7778\n",
      "Epoch 40/100\n",
      "28/28 [==============================] - 0s 13ms/step - loss: 0.4889 - accuracy: 0.7767\n",
      "Epoch 41/100\n",
      "28/28 [==============================] - 0s 12ms/step - loss: 0.4740 - accuracy: 0.7856\n",
      "Epoch 42/100\n",
      "28/28 [==============================] - 0s 12ms/step - loss: 0.4444 - accuracy: 0.8058\n",
      "Epoch 43/100\n",
      "28/28 [==============================] - 0s 13ms/step - loss: 0.4500 - accuracy: 0.7856\n",
      "Epoch 44/100\n",
      "28/28 [==============================] - 0s 13ms/step - loss: 0.4620 - accuracy: 0.7868\n",
      "Epoch 45/100\n",
      "28/28 [==============================] - 0s 13ms/step - loss: 0.4703 - accuracy: 0.7856\n",
      "Epoch 46/100\n",
      "28/28 [==============================] - 0s 12ms/step - loss: 0.4863 - accuracy: 0.7710\n",
      "Epoch 47/100\n",
      "28/28 [==============================] - 0s 12ms/step - loss: 0.4802 - accuracy: 0.7823\n",
      "Epoch 48/100\n",
      "28/28 [==============================] - 0s 12ms/step - loss: 0.4692 - accuracy: 0.7890\n",
      "Epoch 49/100\n",
      "28/28 [==============================] - 0s 13ms/step - loss: 0.4559 - accuracy: 0.7946\n",
      "Epoch 50/100\n",
      "28/28 [==============================] - 0s 12ms/step - loss: 0.4590 - accuracy: 0.7991\n",
      "Epoch 51/100\n",
      "28/28 [==============================] - 0s 12ms/step - loss: 0.4809 - accuracy: 0.7834\n",
      "Epoch 52/100\n",
      "28/28 [==============================] - 0s 12ms/step - loss: 0.4663 - accuracy: 0.8025\n",
      "Epoch 53/100\n",
      "28/28 [==============================] - 0s 12ms/step - loss: 0.4763 - accuracy: 0.7856\n",
      "Epoch 54/100\n",
      "28/28 [==============================] - 0s 13ms/step - loss: 0.4614 - accuracy: 0.8070\n",
      "Epoch 55/100\n",
      "28/28 [==============================] - 0s 13ms/step - loss: 0.4476 - accuracy: 0.8025\n",
      "Epoch 56/100\n",
      "28/28 [==============================] - 0s 14ms/step - loss: 0.4804 - accuracy: 0.7879\n",
      "Epoch 57/100\n",
      "28/28 [==============================] - 0s 13ms/step - loss: 0.4469 - accuracy: 0.7778\n",
      "Epoch 58/100\n",
      "28/28 [==============================] - 0s 12ms/step - loss: 0.4500 - accuracy: 0.8070\n",
      "Epoch 59/100\n",
      "28/28 [==============================] - 0s 13ms/step - loss: 0.4376 - accuracy: 0.8002\n",
      "Epoch 60/100\n",
      "28/28 [==============================] - 0s 13ms/step - loss: 0.4490 - accuracy: 0.8002\n",
      "Epoch 61/100\n",
      "28/28 [==============================] - 0s 13ms/step - loss: 0.4548 - accuracy: 0.8002\n",
      "Epoch 62/100\n",
      "28/28 [==============================] - 0s 13ms/step - loss: 0.4503 - accuracy: 0.7991\n",
      "Epoch 63/100\n",
      "28/28 [==============================] - 0s 13ms/step - loss: 0.4491 - accuracy: 0.7935\n",
      "Epoch 64/100\n",
      "28/28 [==============================] - 0s 13ms/step - loss: 0.4510 - accuracy: 0.8002\n",
      "Epoch 65/100\n",
      "28/28 [==============================] - 0s 13ms/step - loss: 0.4424 - accuracy: 0.7980\n",
      "Epoch 66/100\n",
      "28/28 [==============================] - 0s 13ms/step - loss: 0.4460 - accuracy: 0.8070\n",
      "Epoch 67/100\n",
      "28/28 [==============================] - 0s 13ms/step - loss: 0.4440 - accuracy: 0.8103\n",
      "Epoch 68/100\n",
      "28/28 [==============================] - 0s 13ms/step - loss: 0.4653 - accuracy: 0.8103\n",
      "Epoch 69/100\n",
      "28/28 [==============================] - 0s 13ms/step - loss: 0.4405 - accuracy: 0.8081\n",
      "Epoch 70/100\n",
      "28/28 [==============================] - 0s 13ms/step - loss: 0.4456 - accuracy: 0.7890\n",
      "Epoch 71/100\n",
      "28/28 [==============================] - 0s 13ms/step - loss: 0.4459 - accuracy: 0.8002\n",
      "Epoch 72/100\n",
      "28/28 [==============================] - 0s 13ms/step - loss: 0.4476 - accuracy: 0.7935\n",
      "Epoch 73/100\n",
      "28/28 [==============================] - 0s 14ms/step - loss: 0.4408 - accuracy: 0.8002\n",
      "Epoch 74/100\n",
      "28/28 [==============================] - 0s 12ms/step - loss: 0.4430 - accuracy: 0.8081\n",
      "Epoch 75/100\n",
      "28/28 [==============================] - 0s 13ms/step - loss: 0.4567 - accuracy: 0.8002\n",
      "Epoch 76/100\n",
      "28/28 [==============================] - 0s 13ms/step - loss: 0.4482 - accuracy: 0.8047\n",
      "Epoch 77/100\n",
      "28/28 [==============================] - 0s 12ms/step - loss: 0.4492 - accuracy: 0.8081\n",
      "Epoch 78/100\n",
      "28/28 [==============================] - 0s 12ms/step - loss: 0.4433 - accuracy: 0.8081\n",
      "Epoch 79/100\n",
      "28/28 [==============================] - 0s 12ms/step - loss: 0.4393 - accuracy: 0.8114\n",
      "Epoch 80/100\n",
      "28/28 [==============================] - 0s 12ms/step - loss: 0.4393 - accuracy: 0.8171\n",
      "Epoch 81/100\n",
      "28/28 [==============================] - 0s 12ms/step - loss: 0.4551 - accuracy: 0.7957\n",
      "Epoch 82/100\n",
      "28/28 [==============================] - 0s 13ms/step - loss: 0.4464 - accuracy: 0.7901\n",
      "Epoch 83/100\n",
      "28/28 [==============================] - 0s 13ms/step - loss: 0.4227 - accuracy: 0.8171\n",
      "Epoch 84/100\n",
      "28/28 [==============================] - 0s 12ms/step - loss: 0.4504 - accuracy: 0.8137\n",
      "Epoch 85/100\n",
      "28/28 [==============================] - 0s 12ms/step - loss: 0.4319 - accuracy: 0.8036\n",
      "Epoch 86/100\n",
      "28/28 [==============================] - 0s 12ms/step - loss: 0.4256 - accuracy: 0.8193\n",
      "Epoch 87/100\n",
      "28/28 [==============================] - 0s 12ms/step - loss: 0.4356 - accuracy: 0.8148\n",
      "Epoch 88/100\n",
      "28/28 [==============================] - 0s 13ms/step - loss: 0.4300 - accuracy: 0.8092\n",
      "Epoch 89/100\n",
      "28/28 [==============================] - 0s 13ms/step - loss: 0.4536 - accuracy: 0.7879\n",
      "Epoch 90/100\n",
      "28/28 [==============================] - 0s 13ms/step - loss: 0.4438 - accuracy: 0.8025\n",
      "Epoch 91/100\n",
      "28/28 [==============================] - 0s 13ms/step - loss: 0.4436 - accuracy: 0.8047\n",
      "Epoch 92/100\n",
      "28/28 [==============================] - 0s 12ms/step - loss: 0.4229 - accuracy: 0.8148\n",
      "Epoch 93/100\n",
      "28/28 [==============================] - 0s 12ms/step - loss: 0.4686 - accuracy: 0.7901\n",
      "Epoch 94/100\n",
      "28/28 [==============================] - 0s 12ms/step - loss: 0.4428 - accuracy: 0.7935\n",
      "Epoch 95/100\n",
      "28/28 [==============================] - 0s 13ms/step - loss: 0.4394 - accuracy: 0.8148\n",
      "Epoch 96/100\n",
      "28/28 [==============================] - 0s 13ms/step - loss: 0.4332 - accuracy: 0.8171\n",
      "Epoch 97/100\n",
      "28/28 [==============================] - 0s 13ms/step - loss: 0.4329 - accuracy: 0.8036\n",
      "Epoch 98/100\n",
      "28/28 [==============================] - 0s 13ms/step - loss: 0.4513 - accuracy: 0.8013\n",
      "Epoch 99/100\n",
      "28/28 [==============================] - 0s 13ms/step - loss: 0.4435 - accuracy: 0.7980\n",
      "Epoch 100/100\n",
      "28/28 [==============================] - 0s 13ms/step - loss: 0.4569 - accuracy: 0.7980\n",
      "28/28 [==============================] - 0s 5ms/step - loss: 0.4010 - accuracy: 0.8272\n",
      "Training accuracy on Neural Network: 0.8271604776382446\n"
     ]
    }
   ],
   "source": [
    "import tensorflow as tf\n",
    "\n",
    "# Define the neural network architecture\n",
    "neural_network = tf.keras.Sequential([\n",
    "    tf.keras.layers.Dense(128, activation='relu', input_shape=(6,)),\n",
    "    tf.keras.layers.BatchNormalization(),\n",
    "    tf.keras.layers.Dropout(0.2),\n",
    "    tf.keras.layers.Dense(64, activation='relu'),\n",
    "    tf.keras.layers.BatchNormalization(),\n",
    "    tf.keras.layers.Dropout(0.2),\n",
    "    tf.keras.layers.Dense(32, activation='relu'),\n",
    "    tf.keras.layers.BatchNormalization(),\n",
    "    tf.keras.layers.Dropout(0.2),\n",
    "    tf.keras.layers.Dense(16, activation='relu'),\n",
    "    tf.keras.layers.BatchNormalization(),\n",
    "    tf.keras.layers.Dropout(0.2),\n",
    "    tf.keras.layers.Dense(1, activation='sigmoid')\n",
    "])\n",
    "\n",
    "# Compile the model\n",
    "neural_network.compile(optimizer='adam', loss='binary_crossentropy', metrics=['accuracy'])\n",
    "\n",
    "# Train the model on the training data\n",
    "neural_network.fit(X_train, y_train, epochs=100, batch_size=32, verbose=1)\n",
    "\n",
    "# Evaluate the model's accuracy on the training data\n",
    "train_accuracy = neural_network.evaluate(X_train, y_train)\n",
    "print('Training accuracy on Neural Network:', train_accuracy[1])"
   ]
  },
  {
   "cell_type": "code",
   "execution_count": 29,
   "metadata": {},
   "outputs": [
    {
     "name": "stdout",
     "output_type": "stream",
     "text": [
      "28/28 [==============================] - 0s 4ms/step\n",
      "\n",
      "\n",
      "Accuracy score of Logistic Regression on training data: 0.797979797979798\n",
      "Accuracy score of SVM on training data: 0.7867564534231201\n",
      "Accuracy score of Neural Network on training data: 0.8271604938271605\n",
      "\n",
      "\n",
      "Confusion matrix of Logistic Regression on training data:\n",
      "[[469  80]\n",
      " [100 242]]\n",
      "Confusion matrix of SVM on training data:\n",
      "[[468  81]\n",
      " [109 233]]\n",
      "Confusion matrix of Neural Network on training data:\n",
      "[[508  41]\n",
      " [113 229]]\n",
      "\n",
      "\n",
      "Classification report of Logistic Regression on training data:\n",
      "              precision    recall  f1-score   support\n",
      "\n",
      "           0       0.82      0.85      0.84       549\n",
      "           1       0.75      0.71      0.73       342\n",
      "\n",
      "    accuracy                           0.80       891\n",
      "   macro avg       0.79      0.78      0.78       891\n",
      "weighted avg       0.80      0.80      0.80       891\n",
      "\n",
      "Classification report of SVM on training data:\n",
      "              precision    recall  f1-score   support\n",
      "\n",
      "           0       0.81      0.85      0.83       549\n",
      "           1       0.74      0.68      0.71       342\n",
      "\n",
      "    accuracy                           0.79       891\n",
      "   macro avg       0.78      0.77      0.77       891\n",
      "weighted avg       0.78      0.79      0.78       891\n",
      "\n",
      "Classification report of Neural Network on training data:\n",
      "              precision    recall  f1-score   support\n",
      "\n",
      "           0       0.82      0.93      0.87       549\n",
      "           1       0.85      0.67      0.75       342\n",
      "\n",
      "    accuracy                           0.83       891\n",
      "   macro avg       0.83      0.80      0.81       891\n",
      "weighted avg       0.83      0.83      0.82       891\n",
      "\n"
     ]
    }
   ],
   "source": [
    "from sklearn.metrics import classification_report, confusion_matrix, accuracy_score\n",
    "\n",
    "# Predict the labels of the training data\n",
    "y_pred_logistic_train = logistic_regression.predict(X_train)\n",
    "y_pred_svm_train = svm.predict(X_train)\n",
    "y_pred_nn_train = neural_network.predict(X_train)\n",
    "y_pred_nn_train = (y_pred_nn_train > 0.5).astype(int)\n",
    "\n",
    "# Calculate the accuracy score of your models on the training data\n",
    "accuracy_logistic_train = accuracy_score(y_train, y_pred_logistic_train)\n",
    "accuracy_svm_train = accuracy_score(y_train, y_pred_svm_train)\n",
    "accuracy_nn_train = accuracy_score(y_train, y_pred_nn_train)\n",
    "\n",
    "# Calculate the confusion matrix of your models on the training data\n",
    "confusion_matrix_logistic_train = confusion_matrix(y_train, y_pred_logistic_train)\n",
    "confusion_matrix_svm_train = confusion_matrix(y_train, y_pred_svm_train)\n",
    "confusion_matrix_nn_train = confusion_matrix(y_train, y_pred_nn_train)\n",
    "\n",
    "# Calculate the classification report of your models on the training data\n",
    "classification_report_logistic_train = classification_report(y_train, y_pred_logistic_train)\n",
    "classification_report_svm_train = classification_report(y_train, y_pred_svm_train)\n",
    "classification_report_nn_train = classification_report(y_train, y_pred_nn_train)\n",
    "\n",
    "print(\"\\n\")\n",
    "\n",
    "# Print the results\n",
    "print('Accuracy score of Logistic Regression on training data:', accuracy_logistic_train)\n",
    "print('Accuracy score of SVM on training data:', accuracy_svm_train)\n",
    "print('Accuracy score of Neural Network on training data:', accuracy_nn_train)\n",
    "print(\"\\n\")\n",
    "\n",
    "print('Confusion matrix of Logistic Regression on training data:')\n",
    "print(confusion_matrix_logistic_train)\n",
    "print('Confusion matrix of SVM on training data:')\n",
    "print(confusion_matrix_svm_train)\n",
    "print('Confusion matrix of Neural Network on training data:')\n",
    "print(confusion_matrix_nn_train)\n",
    "print(\"\\n\")\n",
    "\n",
    "print('Classification report of Logistic Regression on training data:')\n",
    "print(classification_report_logistic_train)\n",
    "print('Classification report of SVM on training data:')\n",
    "print(classification_report_svm_train)\n",
    "print('Classification report of Neural Network on training data:')\n",
    "print(classification_report_nn_train)"
   ]
  }
 ],
 "metadata": {
  "kernelspec": {
   "display_name": "TensorFlow",
   "language": "python",
   "name": "python3"
  },
  "language_info": {
   "codemirror_mode": {
    "name": "ipython",
    "version": 3
   },
   "file_extension": ".py",
   "mimetype": "text/x-python",
   "name": "python",
   "nbconvert_exporter": "python",
   "pygments_lexer": "ipython3",
   "version": "3.10.11"
  },
  "orig_nbformat": 4
 },
 "nbformat": 4,
 "nbformat_minor": 2
}
